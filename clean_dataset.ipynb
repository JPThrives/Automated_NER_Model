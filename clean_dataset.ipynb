{
 "cells": [
  {
   "cell_type": "code",
   "execution_count": 3,
   "id": "6ad19c16",
   "metadata": {},
   "outputs": [
    {
     "name": "stdout",
     "output_type": "stream",
     "text": [
      "Dataset cleaned and saved as 'cleaned_Train_dataset.txt'\n"
     ]
    }
   ],
   "source": [
    "import pandas as pd\n",
    "\n",
    "# Load your dataset (replace 'dataset.tsv' with your actual file)\n",
    "df = pd.read_csv('Train.txt', sep='\\t', names=['Token', 'Tag'], on_bad_lines='skip')\n",
    "\n",
    "# Step 1: Standardize tags\n",
    "def standardize_tag(tag):\n",
    "    return 'B-PER' if tag == 'PER' else tag if tag in ['B-PER', 'O'] else 'O'\n",
    "df['Tag'] = df['Tag'].apply(standardize_tag)\n",
    "\n",
    "# Step 2: Remove placeholder tokens\n",
    "df = df[df['Token'] != '*']\n",
    "\n",
    "# Step 3: Reclassify known non-person entities\n",
    "non_person_entities = ['এএনআই', 'এমডি', 'ডাঃ', 'বি.আই.কে.আই.', 'এনআইটিইউএল']\n",
    "df['Tag'] = df.apply(lambda x: 'O' if x['Token'] in non_person_entities else x['Tag'], axis=1)\n",
    "\n",
    "# Step 4: Ensure consistent formatting\n",
    "df['Token'] = df['Token'].astype(str)\n",
    "df['Tag'] = df['Tag'].str.upper()\n",
    "\n",
    "# Save the cleaned dataset\n",
    "df.to_csv('cleaned_Train_dataset.txt', sep='\\t', index=False, header=False)\n",
    "print(\"Dataset cleaned and saved as 'cleaned_Train_dataset.txt'\")\n"
   ]
  },
  {
   "cell_type": "code",
   "execution_count": 5,
   "id": "844e8c63",
   "metadata": {},
   "outputs": [
    {
     "name": "stdout",
     "output_type": "stream",
     "text": [
      "Dataset cleaned and saved as 'cleaned_Test_dataset.txt'\n"
     ]
    }
   ],
   "source": [
    "import pandas as pd\n",
    "\n",
    "# Load your dataset (replace 'dataset.tsv' with your actual file)\n",
    "df = pd.read_csv('Test.txt', sep='\\t', names=['Token', 'Tag'], on_bad_lines='skip')\n",
    "\n",
    "# Step 1: Standardize tags\n",
    "def standardize_tag(tag):\n",
    "    return 'B-PER' if tag == 'PER' else tag if tag in ['B-PER', 'O'] else 'O'\n",
    "df['Tag'] = df['Tag'].apply(standardize_tag)\n",
    "\n",
    "# Step 2: Remove placeholder tokens\n",
    "df = df[df['Token'] != '*']\n",
    "\n",
    "# Step 3: Reclassify known non-person entities\n",
    "non_person_entities = ['এএনআই', 'এমডি', 'ডাঃ', 'বি.আই.কে.আই.', 'এনআইটিইউএল']\n",
    "df['Tag'] = df.apply(lambda x: 'O' if x['Token'] in non_person_entities else x['Tag'], axis=1)\n",
    "\n",
    "# Step 4: Ensure consistent formatting\n",
    "df['Token'] = df['Token'].astype(str)\n",
    "df['Tag'] = df['Tag'].str.upper()\n",
    "\n",
    "# Save the cleaned dataset\n",
    "df.to_csv('cleaned_Test_dataset.txt', sep='\\t', index=False, header=False)\n",
    "print(\"Dataset cleaned and saved as 'cleaned_Test_dataset.txt'\")\n"
   ]
  }
 ],
 "metadata": {
  "kernelspec": {
   "display_name": "venv",
   "language": "python",
   "name": "python3"
  },
  "language_info": {
   "codemirror_mode": {
    "name": "ipython",
    "version": 3
   },
   "file_extension": ".py",
   "mimetype": "text/x-python",
   "name": "python",
   "nbconvert_exporter": "python",
   "pygments_lexer": "ipython3",
   "version": "3.10.6"
  }
 },
 "nbformat": 4,
 "nbformat_minor": 5
}
