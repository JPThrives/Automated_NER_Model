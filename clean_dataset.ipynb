{
 "cells": [
  {
   "cell_type": "code",
   "execution_count": 1,
   "id": "6ad19c16",
   "metadata": {},
   "outputs": [
    {
     "name": "stdout",
     "output_type": "stream",
     "text": [
      "Lines containing '*' have been removed. Cleaned file saved as 'cleaned_Train.txt'.\n"
     ]
    }
   ],
   "source": [
    "# Set your input and output file names\n",
    "input_file = 'Train.txt'    # Replace with your actual file name\n",
    "output_file = 'cleaned_Train.txt'      # Output file name\n",
    "\n",
    "with open(input_file, 'r', encoding='utf-8') as infile, \\\n",
    "     open(output_file, 'w', encoding='utf-8') as outfile:\n",
    "    for line in infile:\n",
    "        if '*' not in line:\n",
    "            outfile.write(line)\n",
    "\n",
    "print(f\"Lines containing '*' have been removed. Cleaned file saved as '{output_file}'.\")\n"
   ]
  },
  {
   "cell_type": "code",
   "execution_count": 2,
   "id": "844e8c63",
   "metadata": {},
   "outputs": [
    {
     "name": "stdout",
     "output_type": "stream",
     "text": [
      "Lines containing '*' have been removed. Cleaned file saved as 'cleaned_Test.txt'.\n"
     ]
    }
   ],
   "source": [
    "# Set your input and output file names\n",
    "input_file = 'Test.txt'    # Replace with your actual file name\n",
    "output_file = 'cleaned_Test.txt'      # Output file name\n",
    "\n",
    "with open(input_file, 'r', encoding='utf-8') as infile, \\\n",
    "     open(output_file, 'w', encoding='utf-8') as outfile:\n",
    "    for line in infile:\n",
    "        if '*' not in line:\n",
    "            outfile.write(line)\n",
    "\n",
    "print(f\"Lines containing '*' have been removed. Cleaned file saved as '{output_file}'.\")\n"
   ]
  }
 ],
 "metadata": {
  "kernelspec": {
   "display_name": "venv",
   "language": "python",
   "name": "python3"
  },
  "language_info": {
   "codemirror_mode": {
    "name": "ipython",
    "version": 3
   },
   "file_extension": ".py",
   "mimetype": "text/x-python",
   "name": "python",
   "nbconvert_exporter": "python",
   "pygments_lexer": "ipython3",
   "version": "3.10.6"
  }
 },
 "nbformat": 4,
 "nbformat_minor": 5
}
