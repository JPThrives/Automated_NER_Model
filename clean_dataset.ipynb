{
 "cells": [
  {
   "cell_type": "code",
   "execution_count": 5,
   "id": "6ad19c16",
   "metadata": {},
   "outputs": [
    {
     "name": "stdout",
     "output_type": "stream",
     "text": [
      "✅ All '*' replaced with blank lines and saved to 'Train_CLeaned.txt'.\n"
     ]
    }
   ],
   "source": [
    "import pandas as pd\n",
    "\n",
    "# Load dataset\n",
    "df = pd.read_csv(\n",
    "    'Train.txt',\n",
    "    sep='\\t',\n",
    "    names=['Token', 'Tag'],\n",
    "    dtype=str,\n",
    "    keep_default_na=False,\n",
    "    on_bad_lines='skip',\n",
    "    encoding='utf-8'\n",
    ")\n",
    "\n",
    "# Strip whitespace\n",
    "df['Token'] = df['Token'].str.strip()\n",
    "df['Tag'] = df['Tag'].str.strip()\n",
    "\n",
    "# Create a blank line for rows where Token is '*'\n",
    "blank_line = pd.DataFrame([{'Token': '', 'Tag': ''}])\n",
    "\n",
    "# Build a new DataFrame with '*' replaced by blank lines\n",
    "cleaned_rows = []\n",
    "for _, row in df.iterrows():\n",
    "    if row['Token'] == '*':\n",
    "        cleaned_rows.append(blank_line.iloc[0])\n",
    "    else:\n",
    "        cleaned_rows.append(row)\n",
    "\n",
    "# Create DataFrame\n",
    "df_cleaned = pd.DataFrame(cleaned_rows)\n",
    "\n",
    "# Save to new file\n",
    "df_cleaned.to_csv('Train_CLeaned.txt', sep='\\t', index=False, header=False, encoding='utf-8')\n",
    "\n",
    "print(\"✅ All '*' replaced with blank lines and saved to 'Train_CLeaned.txt'.\")\n"
   ]
  },
  {
   "cell_type": "code",
   "execution_count": 5,
   "id": "844e8c63",
   "metadata": {},
   "outputs": [
    {
     "name": "stdout",
     "output_type": "stream",
     "text": [
      "Cleaning successful!\n"
     ]
    }
   ],
   "source": [
    "import pandas as pd\n",
    "\n",
    "# Load dataset while skipping malformed lines\n",
    "try:\n",
    "    df = pd.read_csv(\n",
    "        'Test.txt', \n",
    "        sep='\\t', \n",
    "        names=['Token', 'Tag'], \n",
    "        on_bad_lines='skip',  # Skip lines with ≠2 columns\n",
    "        encoding='utf-8'\n",
    "    )\n",
    "    \n",
    "    # Remove rows with '*' tokens\n",
    "    df_clean = df[df['Token'] != '*']\n",
    "    \n",
    "    # Save cleaned data\n",
    "    df_clean.to_csv('cleaned_Test.txt', sep='\\t', index=False, header=False)\n",
    "    print(\"Cleaning successful!\")\n",
    "\n",
    "except FileNotFoundError:\n",
    "    print(\"Error: 'Test.txt' not found. Check the file path!\")\n",
    "except Exception as e:\n",
    "    print(f\"Unexpected error: {e}\")\n"
   ]
  }
 ],
 "metadata": {
  "kernelspec": {
   "display_name": "venv",
   "language": "python",
   "name": "python3"
  },
  "language_info": {
   "codemirror_mode": {
    "name": "ipython",
    "version": 3
   },
   "file_extension": ".py",
   "mimetype": "text/x-python",
   "name": "python",
   "nbconvert_exporter": "python",
   "pygments_lexer": "ipython3",
   "version": "3.10.6"
  }
 },
 "nbformat": 4,
 "nbformat_minor": 5
}
